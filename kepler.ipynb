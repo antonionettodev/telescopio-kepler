{
 "cells": [
  {
   "cell_type": "markdown",
   "id": "0f8b4f81",
   "metadata": {},
   "source": [
    "# Análise de Dados do Telescópio Kepler\n",
    "Projeto simples que usa dados do telescópio Kepler para buscar por exoplanetas\n",
    "\n",
    "## Links: \n",
    "- https://phl.upr.edu/projects/habitable-exoplanets-catalog\n",
    "- https://www.centauri-dreams.org/2015/01/30/a-review-of-the-best-habitable-planet-candidates/\n",
    "- https://exoplanets.nasa.gov/search-for-life/can-we-find-life/\n",
    "- https://exoplanetarchive.ipac.caltech.edu/docs/API_kepcandidate_columns.html\n",
    "- https://exoplanetarchive.ipac.caltech.edu/docs/data.html"
   ]
  },
  {
   "cell_type": "code",
   "execution_count": null,
   "id": "2d4b8d00",
   "metadata": {},
   "outputs": [],
   "source": [
    "import pandas as pd\n",
    "import numpy as np\n",
    "import seaborn as sns\n",
    "import matplotlib.pyplot as plt\n",
    "sns.set_style('whitegrid')"
   ]
  }
 ],
 "metadata": {
  "kernelspec": {
   "display_name": "base",
   "language": "python",
   "name": "python3"
  },
  "language_info": {
   "name": "python",
   "version": "3.11.5"
  }
 },
 "nbformat": 4,
 "nbformat_minor": 5
}
