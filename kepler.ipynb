{
 "cells": [
  {
   "cell_type": "markdown",
   "id": "0f8b4f81",
   "metadata": {},
   "source": [
    "# Análise de Dados do Telescópio Kepler\n",
    "Projeto simples que usa dados do telescópio Kepler para buscar por exoplanetas\n",
    "\n",
    "## Links: \n",
    "- https://phl.upr.edu/projects/habitable-exoplanets-catalog\n",
    "- https://www.centauri-dreams.org/2015/01/30/a-review-of-the-best-habitable-planet-candidates/\n",
    "- https://exoplanets.nasa.gov/search-for-life/can-we-find-life/\n",
    "- https://exoplanetarchive.ipac.caltech.edu/docs/API_kepcandidate_columns.html\n",
    "- https://exoplanetarchive.ipac.caltech.edu/docs/data.html"
   ]
  }
 ],
 "metadata": {
  "kernelspec": {
   "display_name": "base",
   "language": "python",
   "name": "python3"
  },
  "language_info": {
   "name": "python",
   "version": "3.11.5"
  }
 },
 "nbformat": 4,
 "nbformat_minor": 5
}
